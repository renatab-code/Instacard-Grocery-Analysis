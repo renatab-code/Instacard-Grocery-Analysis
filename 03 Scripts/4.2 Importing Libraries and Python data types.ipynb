{
 "cells": [
  {
   "cell_type": "markdown",
   "id": "574f3df4-49f8-476b-8671-411fa81c4476",
   "metadata": {},
   "source": [
    "# 01. Importing Libraries"
   ]
  },
  {
   "cell_type": "code",
   "execution_count": 1,
   "id": "5199f274-766a-4c3b-9b61-5dde8cacdc5d",
   "metadata": {},
   "outputs": [],
   "source": [
    "# Import libraries\n",
    "import pandas as pd\n",
    "import numpy as np\n",
    "import os"
   ]
  },
  {
   "cell_type": "markdown",
   "id": "30800377-da79-41d9-9b87-e1e8692e1920",
   "metadata": {},
   "source": [
    "# 02. Data Types"
   ]
  },
  {
   "cell_type": "code",
   "execution_count": 4,
   "id": "212b7620-84ce-410f-b37e-242c88605205",
   "metadata": {},
   "outputs": [],
   "source": [
    "# Code 3 different ways of reaching a result of 100 by adding or subtracting numeric variables \n",
    "x = 45\n",
    "y = 55"
   ]
  },
  {
   "cell_type": "code",
   "execution_count": 6,
   "id": "5ca420c3-6b3a-442d-9803-d567601f53c1",
   "metadata": {},
   "outputs": [
    {
     "data": {
      "text/plain": [
       "100"
      ]
     },
     "execution_count": 6,
     "metadata": {},
     "output_type": "execute_result"
    }
   ],
   "source": [
    "x + y"
   ]
  },
  {
   "cell_type": "code",
   "execution_count": 8,
   "id": "993b1cee-88a4-4189-9ab0-7a8849ece70b",
   "metadata": {},
   "outputs": [],
   "source": [
    "x = 250\n",
    "y = 150"
   ]
  },
  {
   "cell_type": "code",
   "execution_count": 10,
   "id": "95509fcd-566f-4607-8560-3026224d2ba8",
   "metadata": {},
   "outputs": [
    {
     "data": {
      "text/plain": [
       "100"
      ]
     },
     "execution_count": 10,
     "metadata": {},
     "output_type": "execute_result"
    }
   ],
   "source": [
    "x - y"
   ]
  },
  {
   "cell_type": "code",
   "execution_count": 18,
   "id": "d8aa6cbc-6d57-4a4b-8c7c-f514142027fe",
   "metadata": {},
   "outputs": [],
   "source": [
    "x = 500\n",
    "y = 450\n",
    "z = 50"
   ]
  },
  {
   "cell_type": "code",
   "execution_count": 20,
   "id": "b8ea0118-68e1-43e1-874a-35afa6968568",
   "metadata": {},
   "outputs": [
    {
     "data": {
      "text/plain": [
       "100"
      ]
     },
     "execution_count": 20,
     "metadata": {},
     "output_type": "execute_result"
    }
   ],
   "source": [
    "x - y + z"
   ]
  },
  {
   "cell_type": "code",
   "execution_count": 22,
   "id": "c7a9b1b3-1b9b-4cf5-83b8-c8d35c1378f7",
   "metadata": {},
   "outputs": [],
   "source": [
    "# code 2 floating-point variables and divide them by each other\n",
    "a = 5.69\n",
    "b = 8.12"
   ]
  },
  {
   "cell_type": "code",
   "execution_count": 24,
   "id": "a4ef4815-68bc-4053-ac7a-d1a55830181c",
   "metadata": {},
   "outputs": [
    {
     "data": {
      "text/plain": [
       "0.7007389162561577"
      ]
     },
     "execution_count": 24,
     "metadata": {},
     "output_type": "execute_result"
    }
   ],
   "source": [
    "a / b"
   ]
  },
  {
   "cell_type": "code",
   "execution_count": 26,
   "id": "a11f7ba3-2779-4392-a589-a035ab720e91",
   "metadata": {},
   "outputs": [],
   "source": [
    "# construct a short word made of separate strings\n",
    "c = 'career'\n",
    "d = 'foundry'"
   ]
  },
  {
   "cell_type": "code",
   "execution_count": 28,
   "id": "7a742abd-ee49-4ed3-a0d1-a402360f66aa",
   "metadata": {},
   "outputs": [
    {
     "data": {
      "text/plain": [
       "'careerfoundry'"
      ]
     },
     "execution_count": 28,
     "metadata": {},
     "output_type": "execute_result"
    }
   ],
   "source": [
    "c + d "
   ]
  },
  {
   "cell_type": "code",
   "execution_count": 32,
   "id": "81fd71a0-7e0c-4384-98d9-e3193912b39a",
   "metadata": {},
   "outputs": [],
   "source": [
    "# construct 2 short sentences made of separate strings.\n",
    "e = 'Python is a simple, versatile programming language. '\n",
    "f = 'It is great for data, web and automation tasks.' "
   ]
  },
  {
   "cell_type": "code",
   "execution_count": 34,
   "id": "66ecae38-ac85-410e-a4a2-9cfbceae7e26",
   "metadata": {},
   "outputs": [
    {
     "data": {
      "text/plain": [
       "'Python is a simple, versatile programming language. It is great for data, web and automation tasks.'"
      ]
     },
     "execution_count": 34,
     "metadata": {},
     "output_type": "execute_result"
    }
   ],
   "source": [
    "e + f"
   ]
  },
  {
   "cell_type": "code",
   "execution_count": null,
   "id": "1bc2ea9f-b25e-4e90-9331-3231c7b84a28",
   "metadata": {},
   "outputs": [],
   "source": []
  }
 ],
 "metadata": {
  "kernelspec": {
   "display_name": "Python [conda env:base] *",
   "language": "python",
   "name": "conda-base-py"
  },
  "language_info": {
   "codemirror_mode": {
    "name": "ipython",
    "version": 3
   },
   "file_extension": ".py",
   "mimetype": "text/x-python",
   "name": "python",
   "nbconvert_exporter": "python",
   "pygments_lexer": "ipython3",
   "version": "3.12.7"
  }
 },
 "nbformat": 4,
 "nbformat_minor": 5
}
